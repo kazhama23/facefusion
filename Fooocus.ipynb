{
  "nbformat": 4,
  "nbformat_minor": 0,
  "metadata": {
    "colab": {
      "provenance": [],
      "gpuType": "T4",
      "authorship_tag": "ABX9TyNfgI70du8heHe4W73yXmGf",
      "include_colab_link": true
    },
    "kernelspec": {
      "name": "python3",
      "display_name": "Python 3"
    },
    "language_info": {
      "name": "python"
    },
    "accelerator": "GPU"
  },
  "cells": [
    {
      "cell_type": "markdown",
      "metadata": {
        "id": "view-in-github",
        "colab_type": "text"
      },
      "source": [
        "<a href=\"https://colab.research.google.com/github/kazhama23/facefusion/blob/master/Fooocus.ipynb\" target=\"_parent\"><img src=\"https://colab.research.google.com/assets/colab-badge.svg\" alt=\"Open In Colab\"/></a>"
      ]
    },
    {
      "cell_type": "code",
      "execution_count": null,
      "metadata": {
        "id": "E3atyXYmq9R7"
      },
      "outputs": [],
      "source": [
        "!git clone https://github.com/lllyasviel/Fooocus.git\n",
        "%cd Fooocus"
      ]
    },
    {
      "cell_type": "code",
      "source": [
        "!pip install pyngrok\n",
        "# Replace 'YOUR_AUTHTOKEN_HERE' with your actual ngrok authtoken\n",
        "!ngrok authtoken HBVNCEYMX6\n",
        "\n",
        "# 以下のコマンドが修正版です\n",
        "!python entry_with_update.py --share --listen --preset realistic"
      ],
      "metadata": {
        "id": "LXIyUHM3rHu5"
      },
      "execution_count": null,
      "outputs": []
    }
  ]
}